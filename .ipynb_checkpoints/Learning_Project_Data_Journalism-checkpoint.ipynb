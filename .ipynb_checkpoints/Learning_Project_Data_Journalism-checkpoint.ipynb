{
 "cells": [
  {
   "cell_type": "markdown",
   "id": "-_3wv8jZYTcC",
   "metadata": {
    "id": "-_3wv8jZYTcC"
   },
   "source": [
    "# **Data Journalism** - Navigating Future Opportunities: An Insightful Exploration of Canadian Employment Wages and Trends\n",
    "\n",
    "In an era where industry landscapes are rapidly evolving, understanding the dynamics of occupational trends and wages becomes pivotal for aspiring professionals and students aiming to position themselves advantageously in the job market. \"Navigating Future Opportunities\" delves deep into the fabric of Canada's employment sectors, employing a comprehensive exploratory data analysis (EDA) of recent wage statistics to unravel the nuances of various occupations and industries.\n",
    "\n",
    "> 1) **Exploratory Data Analysis** <br>\n",
    "> 2) **Generative AI**<br>\n",
    "\n",
    "This project is structured into two main parts: an in-depth EDA segment, which leverages data visualization to highlight key trends, disparities, and insights within Canadian employment wages across different sectors, and a generative AI segment, aimed at interpreting these findings through the lens of data journalism. The primary objective of our analysis is to offer a granular look at which industries and occupations hold the promise of prosperity, growth, and stability. By identifying sectors that are leading in wage trends and those that lag, we aim to provide a roadmap for individuals to make informed decisions about their careers and educational paths, ultimately getting ahead in the game."
   ]
  },
  {
   "cell_type": "markdown",
   "id": "Hi2rbVK1Q0Kk",
   "metadata": {
    "id": "Hi2rbVK1Q0Kk"
   },
   "source": [
    "## **Pre-requisite Actions**"
   ]
  },
  {
   "cell_type": "code",
   "execution_count": 1,
   "id": "3NUVwcEE1dlR",
   "metadata": {
    "colab": {
     "base_uri": "https://localhost:8080/"
    },
    "id": "3NUVwcEE1dlR",
    "outputId": "438a1bc5-890a-4b70-a5b1-97bb47601c32"
   },
   "outputs": [],
   "source": [
    "# Import necessary packages\n",
    "!pip install openai --quiet\n",
    "import pandas as pd\n",
    "import numpy as np\n",
    "import seaborn as sns\n",
    "import matplotlib.pyplot as plt\n",
    "from openai import OpenAI\n",
    "import os"
   ]
  },
  {
   "cell_type": "markdown",
   "id": "ZiOAlOzOkJ2G",
   "metadata": {
    "id": "ZiOAlOzOkJ2G"
   },
   "source": [
    "## **Download the Dataset:**\n",
    "\n",
    " >* **Folder Access**: [Click to download the Employee Wages Data](https://drive.google.com/drive/folders/19z4KBZxFu6g4Hgmw9jkYU-WBBHzxFrnh?usp=sharing) <br>\n",
    " Sourced from: [Statistics Canada](https://www150.statcan.gc.ca/t1/tbl1/en/tv.action?pid=1410041701&pickMembers%5B0%5D=1.1&pickMembers%5B1%5D=2.1&pickMembers%5B2%5D=3.1&pickMembers%5B3%5D=5.1&pickMembers%5B4%5D=6.1&cubeTimeFrame.startYear=2018&cubeTimeFrame.endYear=2023&referencePeriods=20180101%2C20230101)"
   ]
  },
  {
   "cell_type": "code",
   "execution_count": null,
   "id": "f02c0a8e",
   "metadata": {},
   "outputs": [],
   "source": [
    "df = read_csv()"
   ]
  },
  {
   "cell_type": "markdown",
   "id": "SRWg0W7Z0Bh_",
   "metadata": {
    "id": "SRWg0W7Z0Bh_"
   },
   "source": [
    "## **Get to know the Data**\n",
    "\n",
    "\n"
   ]
  },
  {
   "cell_type": "code",
   "execution_count": null,
   "id": "KTc_FOp6-PXI",
   "metadata": {
    "id": "KTc_FOp6-PXI"
   },
   "outputs": [],
   "source": [
    "# Check data types, row/column headers\n",
    "# Check the csv delimeter types (\\t or ; or ,) to specify the separation between data\n",
    "# Pick the correct csv file for each task where relevant"
   ]
  },
  {
   "cell_type": "markdown",
   "id": "78-OC9_RB4vr",
   "metadata": {
    "id": "78-OC9_RB4vr"
   },
   "source": [
    "# **Exploratory Data Analysis**\n"
   ]
  },
  {
   "cell_type": "markdown",
   "id": "NsOJp0cxQcAy",
   "metadata": {
    "id": "NsOJp0cxQcAy"
   },
   "source": [
    "### **The Recent Evolution of Wages: A Historical Perspective**"
   ]
  },
  {
   "cell_type": "code",
   "execution_count": null,
   "id": "rlztl4JyQcqs",
   "metadata": {
    "id": "rlztl4JyQcqs"
   },
   "outputs": [],
   "source": [
    "# Task: Create a line plot that shows the overall hourly wage trend over time\n",
    "\n",
    "# Pick the correct dataset from the folder\n",
    "# Example:\n",
    "from google.colab import files\n",
    "uploaded = files.upload()\n",
    "df = pd.read_csv('Average_Hourly_Wages_Overall_Canadian.csv', sep='\\t')\n",
    "df.head()\n",
    "\n",
    "# Compare the overall hourly wage trend (total employees) against health and engineering professionals\n",
    "# Filter the DataFrame for the selected occupations\n",
    "selected_occupations = df[df['National Occupational Classification (NOC)'].isin(['Professional occupations in engineering [213]', 'Professional occupations in health [31]', 'Total employees, all occupations [00-95]'])]\n",
    "\n",
    "# Visualize your findings and make inferences from the outcomes observed\n",
    " # (For the text analysis in the Generational AI section)"
   ]
  },
  {
   "cell_type": "markdown",
   "id": "TNEPJlkpQiIR",
   "metadata": {
    "id": "TNEPJlkpQiIR"
   },
   "source": [
    "### **Job and Financial Security: Choosing Between Casual and Permanent Employment**"
   ]
  },
  {
   "cell_type": "code",
   "execution_count": null,
   "id": "Dl7TOgUMQi1o",
   "metadata": {
    "id": "Dl7TOgUMQi1o"
   },
   "outputs": [],
   "source": [
    "# Compare the average weekly wage between full-time and part-time employees. Use a bar chart to for visualization\n",
    "# Hint: You may need to filter the dataframe based on the 'Type of work' column and then use groupby and mean to calculate the average wages.\n",
    "# Calculation method: Find the average between all the available years in the dataset for both type of work\n",
    "\n",
    "# Visualize your findings and identify if it is better to be a casual or permanent employee\n",
    " # (For the text analysis in the Generational AI section)"
   ]
  },
  {
   "cell_type": "markdown",
   "id": "WSP-WMhNJWik",
   "metadata": {
    "id": "WSP-WMhNJWik"
   },
   "source": [
    "###**Wage Disparity: A Comparison by Occupation and Gender\"**"
   ]
  },
  {
   "cell_type": "code",
   "execution_count": null,
   "id": "aFYEtfwfJWik",
   "metadata": {
    "id": "aFYEtfwfJWik"
   },
   "outputs": [],
   "source": [
    "# Identify the top 5 occupations with the highest average wage\n",
    "# Plot a heatmap of those top 5 occupations average wages by occupation and age group to visualize the distribution across these dimensions.\n",
    "# Hint: Group the data by 'National Occupational Classification (NOC)' and calculate the mean wage. Then sort the results and use head() to get the top 5 occupations.\n",
    "\n",
    "# Compare the bottom 3 and top 3 occupations for the average hourly wage between sexes. Provide 2 boxplots, separating the top and bottom occupations\n",
    "# Hint: The boxplot should indicate the distributions over time, and make inferences about the\n",
    "\n",
    "# Visualize your findings and make inferences from the outcomes observed\n",
    " # (For the text analysis in the Generational AI section)"
   ]
  },
  {
   "cell_type": "markdown",
   "id": "vLZoae1hIxlR",
   "metadata": {
    "id": "vLZoae1hIxlR"
   },
   "source": [
    "# **Generative AI**\n",
    "\n",
    "To load the **OPENAI API KEY**: <br>\n",
    "1.   Please reach out to admins on Discord to receive an API KEY<br>\n",
    "2.   Input the Key into the a .txt file\n",
    "3.   Load the .txt file\n"
   ]
  },
  {
   "cell_type": "code",
   "execution_count": null,
   "id": "0v0fdXO_XmVG",
   "metadata": {
    "id": "0v0fdXO_XmVG"
   },
   "outputs": [],
   "source": [
    "from google.colab import files\n",
    "uploaded = files.upload()\n",
    "api_key_path = 'openai.txt'"
   ]
  },
  {
   "cell_type": "code",
   "execution_count": null,
   "id": "CU7RR2_p1Ls5",
   "metadata": {
    "colab": {
     "base_uri": "https://localhost:8080/"
    },
    "id": "CU7RR2_p1Ls5",
    "outputId": "e4bcecd2-5b2f-4cdb-a556-ebaeb8299d19"
   },
   "outputs": [
    {
     "name": "stdout",
     "output_type": "stream",
     "text": [
      "In analyzing the data on Canadian wages, it is evident that there have been fluctuations in overall wage trends over time. Economic factors such as inflation, unemployment rates, and government policies have played a significant role in shaping these trends. For instance, during periods of economic growth, wages tend to increase as demand for labor rises, while during economic downturns, wages may stagnate or even decrease. Policy impacts, such as minimum wage adjustments and labor market regulations, also influence wage levels. Understanding these factors is crucial in predicting future wage trends and ensuring fair compensation for workers.\n",
      "\n",
      "When examining the gender wage difference in Canada, it is clear that pay equity remains a pressing issue. Despite efforts to promote gender equality in the workforce, women continue to earn less than men across various sectors. Factors such as occupational segregation, discrimination, and lack of representation in higher-paying roles contribute to this disparity. Addressing these systemic issues requires proactive measures to close the gender wage gap and ensure equal pay for equal work. By highlighting these challenges, it becomes apparent that more work needs to be done to achieve true pay equity in Canadian workplaces.\n",
      "\n",
      "Exploring the different employment types in Canada reveals disparities in earnings, particularly in how financial stability affects hourly rates. Full-time employees generally earn higher wages compared to part-time or contract workers, reflecting the importance of job security and benefits in determining overall compensation. Additionally, certain industries or occupations may offer higher wages based on skill level, demand, and market conditions. Understanding these disparities is crucial for policymakers and employers to address wage inequality and promote financial well-being for all workers. By delving into the nuances of employment types and their impact on earnings, a more comprehensive approach can be taken to ensure fair wages and economic stability for Canadians.\n"
     ]
    }
   ],
   "source": [
    "# Read the API key\n",
    "with open('openai.txt', 'r') as file:\n",
    "    api_key = file.readline().strip()\n",
    "\n",
    "# Set the API key in the environment (optional if you pass the key directly to the client)\n",
    "os.environ['OPENAI_API_KEY'] = api_key\n",
    "\n",
    "# Initialize the OpenAI client\n",
    "client = OpenAI(api_key=api_key)\n",
    "\n",
    "# Specify the model\n",
    "model = \"gpt-3.5-turbo\"\n",
    "\n",
    "# The text for analysis, Include both data and its description for context\n",
    "text = \"\"\"\n",
    "Analyze and discuss the data on Canadian wages with a focus on three key aspects.\n",
    "\n",
    "1. First, provide insight into overall wage trends over time, considering economic factors and policy impacts that have influenced these trends.\n",
    "(Insert inferences and observations from EDA)\n",
    "\n",
    "2. Second, detail the gender wage difference, highlighting the ongoing issue of pay equity between men and women across different sectors.\n",
    "(Insert inferences and observations from EDA)\n",
    "\n",
    "3. Lastly, explore the employment types to uncover disparities in earnings, especially focusing on how financial stability affects the hourly rates\n",
    "(Insert inferences and observations from EDA)\n",
    "\n",
    "Each of these points should form a separate paragraph, together building a coherent narrative for a data journalism piece.\n",
    "\"\"\"\n",
    "\n",
    "# Preparing messages for the model\n",
    "messages = [\n",
    "    {\"role\": \"system\", \"content\": \"You are a data journalism assistant\"},\n",
    "    {\"role\": \"user\", \"content\": f\"Write a small paragraph here to analyze this data:\\n{text}. The goal is to interpret it in a way that's interesting for a Data journalism piece.\"}\n",
    "]\n",
    "\n",
    "# Sending the request to the model\n",
    "response = client.chat.completions.create(\n",
    "    model=model,\n",
    "    messages=messages,\n",
    "    temperature=0\n",
    ")\n",
    "\n",
    "# Extracting and printing the response\n",
    "response_message = response.choices[0].message.content\n",
    "print(response_message)"
   ]
  },
  {
   "cell_type": "markdown",
   "id": "oT2wwoDt4HhL",
   "metadata": {
    "id": "oT2wwoDt4HhL"
   },
   "source": [
    "## **Important**"
   ]
  },
  {
   "cell_type": "code",
   "execution_count": null,
   "id": "Ax4FtZLVxNai",
   "metadata": {
    "id": "Ax4FtZLVxNai"
   },
   "outputs": [],
   "source": [
    "# Structure the generative ai response along with the visuals developed in the EDA section. Example article: https://www.yourmove.ai/post/data"
   ]
  }
 ],
 "metadata": {
  "colab": {
   "provenance": []
  },
  "kernelspec": {
   "display_name": "Python 3 (ipykernel)",
   "language": "python",
   "name": "python3"
  },
  "language_info": {
   "codemirror_mode": {
    "name": "ipython",
    "version": 3
   },
   "file_extension": ".py",
   "mimetype": "text/x-python",
   "name": "python",
   "nbconvert_exporter": "python",
   "pygments_lexer": "ipython3",
   "version": "3.10.6"
  },
  "toc": {
   "base_numbering": 1,
   "nav_menu": {},
   "number_sections": true,
   "sideBar": true,
   "skip_h1_title": false,
   "title_cell": "Table of Contents",
   "title_sidebar": "Contents",
   "toc_cell": false,
   "toc_position": {},
   "toc_section_display": true,
   "toc_window_display": false
  }
 },
 "nbformat": 4,
 "nbformat_minor": 5
}
